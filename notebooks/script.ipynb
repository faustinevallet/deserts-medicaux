{
 "cells": [
  {
   "cell_type": "code",
   "execution_count": 1,
   "metadata": {},
   "outputs": [],
   "source": [
    "import os\n",
    "\n",
    "import pandas as pd"
   ]
  },
  {
   "cell_type": "code",
   "execution_count": 2,
   "metadata": {},
   "outputs": [],
   "source": [
    "# PEP 8"
   ]
  },
  {
   "cell_type": "code",
   "execution_count": 5,
   "metadata": {},
   "outputs": [],
   "source": [
    "# Déclaration des constantes\n",
    "\n",
    "DATA_DIR = '../data/external/'\n",
    "ENTITES_FILENAME = 'StockUniteLegale_utf8.zip'\n",
    "ETAB_FILENAME = 'StockEtablissement_utf8.zip'\n",
    "ACTIVITY_CODE = \"86.\""
   ]
  },
  {
   "cell_type": "code",
   "execution_count": 6,
   "metadata": {},
   "outputs": [
    {
     "data": {
      "text/html": [
       "<div>\n",
       "<style scoped>\n",
       "    .dataframe tbody tr th:only-of-type {\n",
       "        vertical-align: middle;\n",
       "    }\n",
       "\n",
       "    .dataframe tbody tr th {\n",
       "        vertical-align: top;\n",
       "    }\n",
       "\n",
       "    .dataframe thead th {\n",
       "        text-align: right;\n",
       "    }\n",
       "</style>\n",
       "<table border=\"1\" class=\"dataframe\">\n",
       "  <thead>\n",
       "    <tr style=\"text-align: right;\">\n",
       "      <th></th>\n",
       "      <th>siren</th>\n",
       "      <th>statutdiffusionunitelegale</th>\n",
       "      <th>unitepurgeeunitelegale</th>\n",
       "      <th>datecreationunitelegale</th>\n",
       "      <th>sigleunitelegale</th>\n",
       "      <th>sexeunitelegale</th>\n",
       "      <th>prenom1unitelegale</th>\n",
       "      <th>prenom2unitelegale</th>\n",
       "      <th>prenom3unitelegale</th>\n",
       "      <th>prenom4unitelegale</th>\n",
       "      <th>...</th>\n",
       "      <th>denominationunitelegale</th>\n",
       "      <th>denominationusuelle1unitelegale</th>\n",
       "      <th>denominationusuelle2unitelegale</th>\n",
       "      <th>denominationusuelle3unitelegale</th>\n",
       "      <th>categoriejuridiqueunitelegale</th>\n",
       "      <th>activiteprincipaleunitelegale</th>\n",
       "      <th>nomenclatureactiviteprincipaleunitelegale</th>\n",
       "      <th>nicsiegeunitelegale</th>\n",
       "      <th>economiesocialesolidaireunitelegale</th>\n",
       "      <th>caractereemployeurunitelegale</th>\n",
       "    </tr>\n",
       "  </thead>\n",
       "  <tbody>\n",
       "    <tr>\n",
       "      <th>0</th>\n",
       "      <td>325175</td>\n",
       "      <td>O</td>\n",
       "      <td>NaN</td>\n",
       "      <td>2000-09-26</td>\n",
       "      <td>NaN</td>\n",
       "      <td>M</td>\n",
       "      <td>THIERRY</td>\n",
       "      <td>NaN</td>\n",
       "      <td>NaN</td>\n",
       "      <td>NaN</td>\n",
       "      <td>...</td>\n",
       "      <td>NaN</td>\n",
       "      <td>NaN</td>\n",
       "      <td>NaN</td>\n",
       "      <td>NaN</td>\n",
       "      <td>1000</td>\n",
       "      <td>32.12Z</td>\n",
       "      <td>NAFRev2</td>\n",
       "      <td>65</td>\n",
       "      <td>NaN</td>\n",
       "      <td>N</td>\n",
       "    </tr>\n",
       "    <tr>\n",
       "      <th>1</th>\n",
       "      <td>1807254</td>\n",
       "      <td>O</td>\n",
       "      <td>NaN</td>\n",
       "      <td>1972-05-01</td>\n",
       "      <td>NaN</td>\n",
       "      <td>M</td>\n",
       "      <td>JACQUES-LUCIEN</td>\n",
       "      <td>NaN</td>\n",
       "      <td>NaN</td>\n",
       "      <td>NaN</td>\n",
       "      <td>...</td>\n",
       "      <td>NaN</td>\n",
       "      <td>NaN</td>\n",
       "      <td>NaN</td>\n",
       "      <td>NaN</td>\n",
       "      <td>1000</td>\n",
       "      <td>85.59A</td>\n",
       "      <td>NAFRev2</td>\n",
       "      <td>22</td>\n",
       "      <td>NaN</td>\n",
       "      <td>N</td>\n",
       "    </tr>\n",
       "    <tr>\n",
       "      <th>2</th>\n",
       "      <td>5410220</td>\n",
       "      <td>O</td>\n",
       "      <td>True</td>\n",
       "      <td>1954-12-25</td>\n",
       "      <td>NaN</td>\n",
       "      <td>M</td>\n",
       "      <td>GEORGES</td>\n",
       "      <td>NaN</td>\n",
       "      <td>NaN</td>\n",
       "      <td>NaN</td>\n",
       "      <td>...</td>\n",
       "      <td>NaN</td>\n",
       "      <td>NaN</td>\n",
       "      <td>NaN</td>\n",
       "      <td>NaN</td>\n",
       "      <td>1000</td>\n",
       "      <td>22.02</td>\n",
       "      <td>NAP</td>\n",
       "      <td>15</td>\n",
       "      <td>NaN</td>\n",
       "      <td>N</td>\n",
       "    </tr>\n",
       "    <tr>\n",
       "      <th>3</th>\n",
       "      <td>5410345</td>\n",
       "      <td>O</td>\n",
       "      <td>True</td>\n",
       "      <td>NaN</td>\n",
       "      <td>NaN</td>\n",
       "      <td>M</td>\n",
       "      <td>MICHEL</td>\n",
       "      <td>NaN</td>\n",
       "      <td>NaN</td>\n",
       "      <td>NaN</td>\n",
       "      <td>...</td>\n",
       "      <td>NaN</td>\n",
       "      <td>NaN</td>\n",
       "      <td>NaN</td>\n",
       "      <td>NaN</td>\n",
       "      <td>1000</td>\n",
       "      <td>79.06</td>\n",
       "      <td>NAP</td>\n",
       "      <td>10</td>\n",
       "      <td>NaN</td>\n",
       "      <td>N</td>\n",
       "    </tr>\n",
       "    <tr>\n",
       "      <th>4</th>\n",
       "      <td>5410394</td>\n",
       "      <td>O</td>\n",
       "      <td>True</td>\n",
       "      <td>1954-12-25</td>\n",
       "      <td>NaN</td>\n",
       "      <td>M</td>\n",
       "      <td>ROBERT</td>\n",
       "      <td>ALFRED</td>\n",
       "      <td>NaN</td>\n",
       "      <td>NaN</td>\n",
       "      <td>...</td>\n",
       "      <td>NaN</td>\n",
       "      <td>NaN</td>\n",
       "      <td>NaN</td>\n",
       "      <td>NaN</td>\n",
       "      <td>1000</td>\n",
       "      <td>64.42</td>\n",
       "      <td>NAP</td>\n",
       "      <td>18</td>\n",
       "      <td>NaN</td>\n",
       "      <td>N</td>\n",
       "    </tr>\n",
       "  </tbody>\n",
       "</table>\n",
       "<p>5 rows × 33 columns</p>\n",
       "</div>"
      ],
      "text/plain": [
       "     siren statutdiffusionunitelegale unitepurgeeunitelegale  \\\n",
       "0   325175                          O                    NaN   \n",
       "1  1807254                          O                    NaN   \n",
       "2  5410220                          O                   True   \n",
       "3  5410345                          O                   True   \n",
       "4  5410394                          O                   True   \n",
       "\n",
       "  datecreationunitelegale sigleunitelegale sexeunitelegale prenom1unitelegale  \\\n",
       "0              2000-09-26              NaN               M            THIERRY   \n",
       "1              1972-05-01              NaN               M     JACQUES-LUCIEN   \n",
       "2              1954-12-25              NaN               M            GEORGES   \n",
       "3                     NaN              NaN               M             MICHEL   \n",
       "4              1954-12-25              NaN               M             ROBERT   \n",
       "\n",
       "  prenom2unitelegale prenom3unitelegale prenom4unitelegale  \\\n",
       "0                NaN                NaN                NaN   \n",
       "1                NaN                NaN                NaN   \n",
       "2                NaN                NaN                NaN   \n",
       "3                NaN                NaN                NaN   \n",
       "4             ALFRED                NaN                NaN   \n",
       "\n",
       "               ...              denominationunitelegale  \\\n",
       "0              ...                                  NaN   \n",
       "1              ...                                  NaN   \n",
       "2              ...                                  NaN   \n",
       "3              ...                                  NaN   \n",
       "4              ...                                  NaN   \n",
       "\n",
       "   denominationusuelle1unitelegale  denominationusuelle2unitelegale  \\\n",
       "0                              NaN                              NaN   \n",
       "1                              NaN                              NaN   \n",
       "2                              NaN                              NaN   \n",
       "3                              NaN                              NaN   \n",
       "4                              NaN                              NaN   \n",
       "\n",
       "  denominationusuelle3unitelegale  categoriejuridiqueunitelegale  \\\n",
       "0                             NaN                           1000   \n",
       "1                             NaN                           1000   \n",
       "2                             NaN                           1000   \n",
       "3                             NaN                           1000   \n",
       "4                             NaN                           1000   \n",
       "\n",
       "  activiteprincipaleunitelegale  nomenclatureactiviteprincipaleunitelegale  \\\n",
       "0                        32.12Z                                    NAFRev2   \n",
       "1                        85.59A                                    NAFRev2   \n",
       "2                         22.02                                        NAP   \n",
       "3                         79.06                                        NAP   \n",
       "4                         64.42                                        NAP   \n",
       "\n",
       "  nicsiegeunitelegale  economiesocialesolidaireunitelegale  \\\n",
       "0                  65                                  NaN   \n",
       "1                  22                                  NaN   \n",
       "2                  15                                  NaN   \n",
       "3                  10                                  NaN   \n",
       "4                  18                                  NaN   \n",
       "\n",
       "  caractereemployeurunitelegale  \n",
       "0                             N  \n",
       "1                             N  \n",
       "2                             N  \n",
       "3                             N  \n",
       "4                             N  \n",
       "\n",
       "[5 rows x 33 columns]"
      ]
     },
     "execution_count": 6,
     "metadata": {},
     "output_type": "execute_result"
    }
   ],
   "source": [
    "pd.read_csv(os.path.join(DATA_DIR, ENTITES_FILENAME), # concaténisation du répertoire et du nom du fichier\n",
    "            compression='zip',\n",
    "            nrows=1000\n",
    "           ).head()"
   ]
  },
  {
   "cell_type": "code",
   "execution_count": 7,
   "metadata": {},
   "outputs": [
    {
     "data": {
      "text/plain": [
       "Index(['siren', 'statutdiffusionunitelegale', 'unitepurgeeunitelegale',\n",
       "       'datecreationunitelegale', 'sigleunitelegale', 'sexeunitelegale',\n",
       "       'prenom1unitelegale', 'prenom2unitelegale', 'prenom3unitelegale',\n",
       "       'prenom4unitelegale', 'prenomusuelunitelegale', 'pseudonymeunitelegale',\n",
       "       'identifiantassociationunitelegale', 'trancheeffectifsunitelegale',\n",
       "       'anneeeffectifsunitelegale', 'datederniertraitementunitelegale',\n",
       "       'nombreperiodesunitelegale', 'categorieentreprise',\n",
       "       'anneecategorieentreprise', 'datedebut', 'etatadministratifunitelegale',\n",
       "       'nomunitelegale', 'nomusageunitelegale', 'denominationunitelegale',\n",
       "       'denominationusuelle1unitelegale', 'denominationusuelle2unitelegale',\n",
       "       'denominationusuelle3unitelegale', 'categoriejuridiqueunitelegale',\n",
       "       'activiteprincipaleunitelegale',\n",
       "       'nomenclatureactiviteprincipaleunitelegale', 'nicsiegeunitelegale',\n",
       "       'economiesocialesolidaireunitelegale', 'caractereemployeurunitelegale'],\n",
       "      dtype='object')"
      ]
     },
     "execution_count": 7,
     "metadata": {},
     "output_type": "execute_result"
    }
   ],
   "source": [
    "pd.read_csv(os.path.join(DATA_DIR, ENTITES_FILENAME), # concaténisation du répertoire et du nom du fichier\n",
    "            compression='zip',\n",
    "            nrows=1000\n",
    "           ).columns"
   ]
  },
  {
   "cell_type": "code",
   "execution_count": 42,
   "metadata": {},
   "outputs": [
    {
     "name": "stderr",
     "output_type": "stream",
     "text": [
      "C:\\Users\\v16024031\\AppData\\Local\\Continuum\\anaconda3\\lib\\site-packages\\IPython\\core\\interactiveshell.py:3020: DtypeWarning: Columns (21) have mixed types. Specify dtype option on import or set low_memory=False.\n",
      "  interactivity=interactivity, compiler=compiler, result=result)\n"
     ]
    },
    {
     "data": {
      "text/plain": [
       "86.90D    171348\n",
       "86.90E    144949\n",
       "86.21Z    120266\n",
       "86.90F    102522\n",
       "86.22C     61179\n",
       "86.23Z     57206\n",
       "86.06      13225\n",
       "86.90A      8767\n",
       "86.07       8081\n",
       "86.22A      7185\n",
       "86.22B      7036\n",
       "86.90B      5621\n",
       "86.12       4329\n",
       "86.10       3914\n",
       "86.10Z      3793\n",
       "86.08       2766\n",
       "86.02       1748\n",
       "86.04       1472\n",
       "86.09        981\n",
       "86.05        977\n",
       "86.01        703\n",
       "86.03        220\n",
       "86.11        189\n",
       "86.90C       149\n",
       "Name: activiteprincipaleunitelegale, dtype: int64"
      ]
     },
     "execution_count": 42,
     "metadata": {},
     "output_type": "execute_result"
    }
   ],
   "source": [
    "%%time\n",
    "entities_df = (pd.read_csv(os.path.join(DATA_DIR, ENTITES_FILENAME), \n",
    "                           usecols=['siren','activiteprincipaleunitelegale','etatadministratifunitelegale','datecreationunitelegale','denominationunitelegale','nomunitelegale'],\n",
    "                           compression='zip',\n",
    "#                            nrows=100000\n",
    "                          )\n",
    "           ).dropna(subset=['activiteprincipaleunitelegale'])\n",
    "\n",
    "(entities_df[(entities_df).activiteprincipaleunitelegale.str.startswith(\"86.\")]\n",
    " ['activiteprincipaleunitelegale']\n",
    ".value_counts()\n",
    ")"
   ]
  },
  {
   "cell_type": "code",
   "execution_count": 9,
   "metadata": {},
   "outputs": [
    {
     "data": {
      "text/plain": [
       "(99797, 4)"
      ]
     },
     "execution_count": 9,
     "metadata": {},
     "output_type": "execute_result"
    }
   ],
   "source": [
    "entities_df.shape"
   ]
  },
  {
   "cell_type": "code",
   "execution_count": 10,
   "metadata": {},
   "outputs": [
    {
     "data": {
      "text/plain": [
       "20222"
      ]
     },
     "execution_count": 10,
     "metadata": {},
     "output_type": "execute_result"
    }
   ],
   "source": [
    "entities_df.denominationunitelegale.isnull().sum()"
   ]
  },
  {
   "cell_type": "code",
   "execution_count": 11,
   "metadata": {},
   "outputs": [
    {
     "data": {
      "text/plain": [
       "79575"
      ]
     },
     "execution_count": 11,
     "metadata": {},
     "output_type": "execute_result"
    }
   ],
   "source": [
    "entities_df.nomunitelegale.isnull().sum()"
   ]
  },
  {
   "cell_type": "code",
   "execution_count": 14,
   "metadata": {},
   "outputs": [
    {
     "data": {
      "text/plain": [
       "Index(['siren', 'nic', 'siret', 'statutdiffusionetablissement',\n",
       "       'datecreationetablissement', 'trancheeffectifsetablissement',\n",
       "       'anneeeffectifsetablissement',\n",
       "       'activiteprincipaleregistremetiersetablissement',\n",
       "       'datederniertraitementetablissement', 'etablissementsiege',\n",
       "       'nombreperiodesetablissement', 'complementadresseetablissement',\n",
       "       'numerovoieetablissement', 'indicerepetitionetablissement',\n",
       "       'typevoieetablissement', 'libellevoieetablissement',\n",
       "       'codepostaletablissement', 'libellecommuneetablissement',\n",
       "       'libellecommuneetrangeretablissement',\n",
       "       'distributionspecialeetablissement', 'codecommuneetablissement',\n",
       "       'codecedexetablissement', 'libellecedexetablissement',\n",
       "       'codepaysetrangeretablissement', 'libellepaysetrangeretablissement',\n",
       "       'complementadresse2etablissement', 'numerovoie2etablissement',\n",
       "       'indicerepetition2etablissement', 'typevoie2etablissement',\n",
       "       'libellevoie2etablissement', 'codepostal2etablissement',\n",
       "       'libellecommune2etablissement', 'libellecommuneetranger2etablissement',\n",
       "       'distributionspeciale2etablissement', 'codecommune2etablissement',\n",
       "       'codecedex2etablissement', 'libellecedex2etablissement',\n",
       "       'codepaysetranger2etablissement', 'libellepaysetranger2etablissement',\n",
       "       'datedebut', 'etatadministratifetablissement', 'enseigne1etablissement',\n",
       "       'enseigne2etablissement', 'enseigne3etablissement',\n",
       "       'denominationusuelleetablissement', 'activiteprincipaleetablissement',\n",
       "       'nomenclatureactiviteprincipaleetablissement',\n",
       "       'caractereemployeuretablissement'],\n",
       "      dtype='object')"
      ]
     },
     "execution_count": 14,
     "metadata": {},
     "output_type": "execute_result"
    }
   ],
   "source": [
    "pd.read_csv(os.path.join(DATA_DIR, ETAB_FILENAME), # concaténisation du répertoire et du nom du fichier\n",
    "            compression='zip',\n",
    "            nrows=1000\n",
    "           ).columns"
   ]
  },
  {
   "cell_type": "code",
   "execution_count": 33,
   "metadata": {},
   "outputs": [
    {
     "name": "stderr",
     "output_type": "stream",
     "text": [
      "<string>:2: DtypeWarning: Columns (20,41,44) have mixed types. Specify dtype option on import or set low_memory=False.\n"
     ]
    },
    {
     "name": "stdout",
     "output_type": "stream",
     "text": [
      "Wall time: 1min 45s\n"
     ]
    }
   ],
   "source": [
    "%%time\n",
    "etab_df = (pd.read_csv(os.path.join(DATA_DIR, ETAB_FILENAME),\n",
    "                       usecols=['activiteprincipaleetablissement', 'datecreationetablissement',\n",
    "                                'enseigne1etablissement', 'libellecommuneetablissement',\n",
    "                                'denominationusuelleetablissement', 'etatadministratifetablissement',\n",
    "                                'codecommuneetablissement', 'codepostaletablissement', 'siren'],\n",
    "                       compression='zip',\n",
    "#                       nrows=100000\n",
    "                      )\n",
    "          ).dropna(subset=['activiteprincipaleetablissement']).query('etatadministratifetablissement == \"A\"')\n",
    "\n",
    "etab_df = etab_df[etab_df.activiteprincipaleetablissement.str.startswith(\"86.\")]"
   ]
  },
  {
   "cell_type": "code",
   "execution_count": 35,
   "metadata": {},
   "outputs": [
    {
     "data": {
      "text/html": [
       "<div>\n",
       "<style scoped>\n",
       "    .dataframe tbody tr th:only-of-type {\n",
       "        vertical-align: middle;\n",
       "    }\n",
       "\n",
       "    .dataframe tbody tr th {\n",
       "        vertical-align: top;\n",
       "    }\n",
       "\n",
       "    .dataframe thead th {\n",
       "        text-align: right;\n",
       "    }\n",
       "</style>\n",
       "<table border=\"1\" class=\"dataframe\">\n",
       "  <thead>\n",
       "    <tr style=\"text-align: right;\">\n",
       "      <th></th>\n",
       "      <th>siren</th>\n",
       "      <th>datecreationetablissement</th>\n",
       "      <th>codepostaletablissement</th>\n",
       "      <th>libellecommuneetablissement</th>\n",
       "      <th>codecommuneetablissement</th>\n",
       "      <th>etatadministratifetablissement</th>\n",
       "      <th>enseigne1etablissement</th>\n",
       "      <th>denominationusuelleetablissement</th>\n",
       "      <th>activiteprincipaleetablissement</th>\n",
       "    </tr>\n",
       "  </thead>\n",
       "  <tbody>\n",
       "    <tr>\n",
       "      <th>892</th>\n",
       "      <td>5720164</td>\n",
       "      <td>1983-09-28</td>\n",
       "      <td>80100.0</td>\n",
       "      <td>ABBEVILLE</td>\n",
       "      <td>80001</td>\n",
       "      <td>A</td>\n",
       "      <td>NaN</td>\n",
       "      <td>NaN</td>\n",
       "      <td>86.10Z</td>\n",
       "    </tr>\n",
       "    <tr>\n",
       "      <th>6424</th>\n",
       "      <td>7050040</td>\n",
       "      <td>1970-01-01</td>\n",
       "      <td>4510.0</td>\n",
       "      <td>AIGLUN</td>\n",
       "      <td>04001</td>\n",
       "      <td>A</td>\n",
       "      <td>NaN</td>\n",
       "      <td>NaN</td>\n",
       "      <td>86.10Z</td>\n",
       "    </tr>\n",
       "    <tr>\n",
       "      <th>17575</th>\n",
       "      <td>17150533</td>\n",
       "      <td>1971-01-01</td>\n",
       "      <td>21000.0</td>\n",
       "      <td>DIJON</td>\n",
       "      <td>21231</td>\n",
       "      <td>A</td>\n",
       "      <td>NaN</td>\n",
       "      <td>NaN</td>\n",
       "      <td>86.10Z</td>\n",
       "    </tr>\n",
       "    <tr>\n",
       "      <th>26233</th>\n",
       "      <td>24080749</td>\n",
       "      <td>2002-12-19</td>\n",
       "      <td>97600.0</td>\n",
       "      <td>MAMOUDZOU</td>\n",
       "      <td>97611</td>\n",
       "      <td>A</td>\n",
       "      <td>NaN</td>\n",
       "      <td>NaN</td>\n",
       "      <td>86.90B</td>\n",
       "    </tr>\n",
       "    <tr>\n",
       "      <th>34605</th>\n",
       "      <td>35204429</td>\n",
       "      <td>2009-01-01</td>\n",
       "      <td>31200.0</td>\n",
       "      <td>TOULOUSE</td>\n",
       "      <td>31555</td>\n",
       "      <td>A</td>\n",
       "      <td>NaN</td>\n",
       "      <td>NaN</td>\n",
       "      <td>86.23Z</td>\n",
       "    </tr>\n",
       "  </tbody>\n",
       "</table>\n",
       "</div>"
      ],
      "text/plain": [
       "          siren datecreationetablissement  codepostaletablissement  \\\n",
       "892     5720164                1983-09-28                  80100.0   \n",
       "6424    7050040                1970-01-01                   4510.0   \n",
       "17575  17150533                1971-01-01                  21000.0   \n",
       "26233  24080749                2002-12-19                  97600.0   \n",
       "34605  35204429                2009-01-01                  31200.0   \n",
       "\n",
       "      libellecommuneetablissement codecommuneetablissement  \\\n",
       "892                     ABBEVILLE                    80001   \n",
       "6424                       AIGLUN                    04001   \n",
       "17575                       DIJON                    21231   \n",
       "26233                   MAMOUDZOU                    97611   \n",
       "34605                    TOULOUSE                    31555   \n",
       "\n",
       "      etatadministratifetablissement enseigne1etablissement  \\\n",
       "892                                A                    NaN   \n",
       "6424                               A                    NaN   \n",
       "17575                              A                    NaN   \n",
       "26233                              A                    NaN   \n",
       "34605                              A                    NaN   \n",
       "\n",
       "      denominationusuelleetablissement activiteprincipaleetablissement  \n",
       "892                                NaN                          86.10Z  \n",
       "6424                               NaN                          86.10Z  \n",
       "17575                              NaN                          86.10Z  \n",
       "26233                              NaN                          86.90B  \n",
       "34605                              NaN                          86.23Z  "
      ]
     },
     "execution_count": 35,
     "metadata": {},
     "output_type": "execute_result"
    }
   ],
   "source": [
    "etab_df.head()"
   ]
  },
  {
   "cell_type": "code",
   "execution_count": 24,
   "metadata": {},
   "outputs": [
    {
     "data": {
      "text/plain": [
       "siren                                 int64\n",
       "datecreationetablissement            object\n",
       "codepostaletablissement             float64\n",
       "libellecommuneetablissement          object\n",
       "codecommuneetablissement             object\n",
       "etatadministratifetablissement       object\n",
       "enseigne1etablissement               object\n",
       "denominationusuelleetablissement     object\n",
       "activiteprincipaleetablissement      object\n",
       "dtype: object"
      ]
     },
     "execution_count": 24,
     "metadata": {},
     "output_type": "execute_result"
    }
   ],
   "source": [
    "etab_df.dtypes"
   ]
  },
  {
   "cell_type": "code",
   "execution_count": 29,
   "metadata": {},
   "outputs": [
    {
     "data": {
      "text/plain": [
       "siren                             int64\n",
       "datecreationunitelegale          object\n",
       "etatadministratifunitelegale     object\n",
       "nomunitelegale                   object\n",
       "denominationunitelegale          object\n",
       "activiteprincipaleunitelegale    object\n",
       "dtype: object"
      ]
     },
     "execution_count": 29,
     "metadata": {},
     "output_type": "execute_result"
    }
   ],
   "source": [
    "entities_df.dtypes"
   ]
  },
  {
   "cell_type": "code",
   "execution_count": 43,
   "metadata": {},
   "outputs": [],
   "source": [
    "process_df = etab_df.merge(entities_df, on='siren', how='left')"
   ]
  },
  {
   "cell_type": "code",
   "execution_count": 44,
   "metadata": {},
   "outputs": [
    {
     "data": {
      "text/html": [
       "<div>\n",
       "<style scoped>\n",
       "    .dataframe tbody tr th:only-of-type {\n",
       "        vertical-align: middle;\n",
       "    }\n",
       "\n",
       "    .dataframe tbody tr th {\n",
       "        vertical-align: top;\n",
       "    }\n",
       "\n",
       "    .dataframe thead th {\n",
       "        text-align: right;\n",
       "    }\n",
       "</style>\n",
       "<table border=\"1\" class=\"dataframe\">\n",
       "  <thead>\n",
       "    <tr style=\"text-align: right;\">\n",
       "      <th></th>\n",
       "      <th>siren</th>\n",
       "      <th>datecreationetablissement</th>\n",
       "      <th>codepostaletablissement</th>\n",
       "      <th>libellecommuneetablissement</th>\n",
       "      <th>codecommuneetablissement</th>\n",
       "      <th>etatadministratifetablissement</th>\n",
       "      <th>enseigne1etablissement</th>\n",
       "      <th>denominationusuelleetablissement</th>\n",
       "      <th>activiteprincipaleetablissement</th>\n",
       "      <th>datecreationunitelegale</th>\n",
       "      <th>etatadministratifunitelegale</th>\n",
       "      <th>nomunitelegale</th>\n",
       "      <th>denominationunitelegale</th>\n",
       "      <th>activiteprincipaleunitelegale</th>\n",
       "    </tr>\n",
       "  </thead>\n",
       "  <tbody>\n",
       "    <tr>\n",
       "      <th>0</th>\n",
       "      <td>5720164</td>\n",
       "      <td>1983-09-28</td>\n",
       "      <td>80100.0</td>\n",
       "      <td>ABBEVILLE</td>\n",
       "      <td>80001</td>\n",
       "      <td>A</td>\n",
       "      <td>NaN</td>\n",
       "      <td>NaN</td>\n",
       "      <td>86.10Z</td>\n",
       "      <td>1957-01-01</td>\n",
       "      <td>A</td>\n",
       "      <td>NaN</td>\n",
       "      <td>SA SAINTE-ISABELLE</td>\n",
       "      <td>86.10Z</td>\n",
       "    </tr>\n",
       "    <tr>\n",
       "      <th>1</th>\n",
       "      <td>7050040</td>\n",
       "      <td>1970-01-01</td>\n",
       "      <td>4510.0</td>\n",
       "      <td>AIGLUN</td>\n",
       "      <td>04001</td>\n",
       "      <td>A</td>\n",
       "      <td>NaN</td>\n",
       "      <td>NaN</td>\n",
       "      <td>86.10Z</td>\n",
       "      <td>1970-01-01</td>\n",
       "      <td>A</td>\n",
       "      <td>NaN</td>\n",
       "      <td>CENTRE DES CARMES</td>\n",
       "      <td>86.10Z</td>\n",
       "    </tr>\n",
       "    <tr>\n",
       "      <th>2</th>\n",
       "      <td>17150533</td>\n",
       "      <td>1971-01-01</td>\n",
       "      <td>21000.0</td>\n",
       "      <td>DIJON</td>\n",
       "      <td>21231</td>\n",
       "      <td>A</td>\n",
       "      <td>NaN</td>\n",
       "      <td>NaN</td>\n",
       "      <td>86.10Z</td>\n",
       "      <td>1971-01-01</td>\n",
       "      <td>A</td>\n",
       "      <td>NaN</td>\n",
       "      <td>CLINIQUE LES ROSIERS</td>\n",
       "      <td>86.10Z</td>\n",
       "    </tr>\n",
       "    <tr>\n",
       "      <th>3</th>\n",
       "      <td>24080749</td>\n",
       "      <td>2002-12-19</td>\n",
       "      <td>97600.0</td>\n",
       "      <td>MAMOUDZOU</td>\n",
       "      <td>97611</td>\n",
       "      <td>A</td>\n",
       "      <td>NaN</td>\n",
       "      <td>NaN</td>\n",
       "      <td>86.90B</td>\n",
       "      <td>2002-12-19</td>\n",
       "      <td>A</td>\n",
       "      <td>NaN</td>\n",
       "      <td>MAYO BIO SELARL</td>\n",
       "      <td>86.90B</td>\n",
       "    </tr>\n",
       "    <tr>\n",
       "      <th>4</th>\n",
       "      <td>35204429</td>\n",
       "      <td>2009-01-01</td>\n",
       "      <td>31200.0</td>\n",
       "      <td>TOULOUSE</td>\n",
       "      <td>31555</td>\n",
       "      <td>A</td>\n",
       "      <td>NaN</td>\n",
       "      <td>NaN</td>\n",
       "      <td>86.23Z</td>\n",
       "      <td>1983-10-21</td>\n",
       "      <td>A</td>\n",
       "      <td>NaN</td>\n",
       "      <td>SAURAT PHILIPPE ET ISABELLE</td>\n",
       "      <td>86.23Z</td>\n",
       "    </tr>\n",
       "  </tbody>\n",
       "</table>\n",
       "</div>"
      ],
      "text/plain": [
       "      siren datecreationetablissement  codepostaletablissement  \\\n",
       "0   5720164                1983-09-28                  80100.0   \n",
       "1   7050040                1970-01-01                   4510.0   \n",
       "2  17150533                1971-01-01                  21000.0   \n",
       "3  24080749                2002-12-19                  97600.0   \n",
       "4  35204429                2009-01-01                  31200.0   \n",
       "\n",
       "  libellecommuneetablissement codecommuneetablissement  \\\n",
       "0                   ABBEVILLE                    80001   \n",
       "1                      AIGLUN                    04001   \n",
       "2                       DIJON                    21231   \n",
       "3                   MAMOUDZOU                    97611   \n",
       "4                    TOULOUSE                    31555   \n",
       "\n",
       "  etatadministratifetablissement enseigne1etablissement  \\\n",
       "0                              A                    NaN   \n",
       "1                              A                    NaN   \n",
       "2                              A                    NaN   \n",
       "3                              A                    NaN   \n",
       "4                              A                    NaN   \n",
       "\n",
       "  denominationusuelleetablissement activiteprincipaleetablissement  \\\n",
       "0                              NaN                          86.10Z   \n",
       "1                              NaN                          86.10Z   \n",
       "2                              NaN                          86.10Z   \n",
       "3                              NaN                          86.90B   \n",
       "4                              NaN                          86.23Z   \n",
       "\n",
       "  datecreationunitelegale etatadministratifunitelegale nomunitelegale  \\\n",
       "0              1957-01-01                            A            NaN   \n",
       "1              1970-01-01                            A            NaN   \n",
       "2              1971-01-01                            A            NaN   \n",
       "3              2002-12-19                            A            NaN   \n",
       "4              1983-10-21                            A            NaN   \n",
       "\n",
       "       denominationunitelegale activiteprincipaleunitelegale  \n",
       "0           SA SAINTE-ISABELLE                        86.10Z  \n",
       "1            CENTRE DES CARMES                        86.10Z  \n",
       "2         CLINIQUE LES ROSIERS                        86.10Z  \n",
       "3              MAYO BIO SELARL                        86.90B  \n",
       "4  SAURAT PHILIPPE ET ISABELLE                        86.23Z  "
      ]
     },
     "execution_count": 44,
     "metadata": {},
     "output_type": "execute_result"
    }
   ],
   "source": [
    "process_df.head()"
   ]
  },
  {
   "cell_type": "code",
   "execution_count": 45,
   "metadata": {},
   "outputs": [
    {
     "data": {
      "text/plain": [
       "(560103, 14)"
      ]
     },
     "execution_count": 45,
     "metadata": {},
     "output_type": "execute_result"
    }
   ],
   "source": [
    "process_df.shape"
   ]
  },
  {
   "cell_type": "code",
   "execution_count": 46,
   "metadata": {},
   "outputs": [
    {
     "data": {
      "text/plain": [
       "(0, 14)"
      ]
     },
     "execution_count": 46,
     "metadata": {},
     "output_type": "execute_result"
    }
   ],
   "source": [
    "process_df[process_df.activiteprincipaleunitelegale.isnull()].shape"
   ]
  },
  {
   "cell_type": "code",
   "execution_count": 47,
   "metadata": {},
   "outputs": [
    {
     "data": {
      "text/plain": [
       "right_only    19681506\n",
       "both            560103\n",
       "left_only            0\n",
       "Name: _merge, dtype: int64"
      ]
     },
     "execution_count": 47,
     "metadata": {},
     "output_type": "execute_result"
    }
   ],
   "source": [
    "etab_df.merge(entities_df, on='siren', how='outer', indicator=True)['_merge'].value_counts()"
   ]
  },
  {
   "cell_type": "code",
   "execution_count": null,
   "metadata": {},
   "outputs": [],
   "source": []
  }
 ],
 "metadata": {
  "kernelspec": {
   "display_name": "Python 3",
   "language": "python",
   "name": "python3"
  },
  "language_info": {
   "codemirror_mode": {
    "name": "ipython",
    "version": 3
   },
   "file_extension": ".py",
   "mimetype": "text/x-python",
   "name": "python",
   "nbconvert_exporter": "python",
   "pygments_lexer": "ipython3",
   "version": "3.7.1"
  }
 },
 "nbformat": 4,
 "nbformat_minor": 2
}
